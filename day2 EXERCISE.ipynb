{
 "cells": [
  {
   "cell_type": "markdown",
   "id": "d15d8294-3328-4e07-ad16-8a03e9bbfdb9",
   "metadata": {},
   "source": [
    "# Welcome to your first assignment!\n",
    "\n",
    "Instructions are below. Please give this a try, and look in the solutions folder if you get stuck (or feel free to ask me!)"
   ]
  },
  {
   "cell_type": "markdown",
   "id": "ada885d9-4d42-4d9b-97f0-74fbbbfe93a9",
   "metadata": {},
   "source": [
    "<table style=\"margin: 0; text-align: left;\">\n",
    "    <tr>\n",
    "        <td style=\"width: 150px; height: 150px; vertical-align: middle;\">\n",
    "            <img src=\"../resources.jpg\" width=\"150\" height=\"150\" style=\"display: block;\" />\n",
    "        </td>\n",
    "        <td>\n",
    "            <h2 style=\"color:#f71;\">Just before we get to the assignment --</h2>\n",
    "            <span style=\"color:#f71;\">I thought I'd take a second to point you at this page of useful resources for the course. This includes links to all the slides.<br/>\n",
    "            <a href=\"https://edwarddonner.com/2024/11/13/llm-engineering-resources/\">https://edwarddonner.com/2024/11/13/llm-engineering-resources/</a><br/>\n",
    "            Please keep this bookmarked, and I'll continue to add more useful links there over time.\n",
    "            </span>\n",
    "        </td>\n",
    "    </tr>\n",
    "</table>"
   ]
  },
  {
   "cell_type": "markdown",
   "id": "6e9fa1fc-eac5-4d1d-9be4-541b3f2b3458",
   "metadata": {},
   "source": [
    "# HOMEWORK EXERCISE ASSIGNMENT\n",
    "\n",
    "Upgrade the day 1 project to summarize a webpage to use an Open Source model running locally via Ollama rather than OpenAI\n",
    "\n",
    "You'll be able to use this technique for all subsequent projects if you'd prefer not to use paid APIs.\n",
    "\n",
    "**Benefits:**\n",
    "1. No API charges - open-source\n",
    "2. Data doesn't leave your box\n",
    "\n",
    "**Disadvantages:**\n",
    "1. Significantly less power than Frontier Model\n",
    "\n",
    "## Recap on installation of Ollama\n",
    "\n",
    "Simply visit [ollama.com](https://ollama.com) and install!\n",
    "\n",
    "Once complete, the ollama server should already be running locally.  \n",
    "If you visit:  \n",
    "[http://localhost:11434/](http://localhost:11434/)\n",
    "\n",
    "You should see the message `Ollama is running`.  \n",
    "\n",
    "If not, bring up a new Terminal (Mac) or Powershell (Windows) and enter `ollama serve`  \n",
    "And in another Terminal (Mac) or Powershell (Windows), enter `ollama pull llama3.2`  \n",
    "Then try [http://localhost:11434/](http://localhost:11434/) again.\n",
    "\n",
    "If Ollama is slow on your machine, try using `llama3.2:1b` as an alternative. Run `ollama pull llama3.2:1b` from a Terminal or Powershell, and change the code below from `MODEL = \"llama3.2\"` to `MODEL = \"llama3.2:1b\"`"
   ]
  },
  {
   "cell_type": "code",
   "execution_count": 10,
   "id": "4e2a9393-7767-488e-a8bf-27c12dca35bd",
   "metadata": {},
   "outputs": [],
   "source": [
    "# imports\n",
    "\n",
    "import requests\n",
    "from bs4 import BeautifulSoup\n",
    "from IPython.display import Markdown, display"
   ]
  },
  {
   "cell_type": "code",
   "execution_count": 11,
   "id": "29ddd15d-a3c5-4f4e-a678-873f56162724",
   "metadata": {},
   "outputs": [],
   "source": [
    "# Constants\n",
    "\n",
    "OLLAMA_API = \"http://localhost:11434/api/chat\"\n",
    "HEADERS = {\"Content-Type\": \"application/json\"}\n",
    "MODEL = \"llama3.2\""
   ]
  },
  {
   "cell_type": "code",
   "execution_count": 3,
   "id": "dac0a679-599c-441f-9bf2-ddc73d35b940",
   "metadata": {},
   "outputs": [],
   "source": [
    "# Create a messages list using the same format that we used for OpenAI\n",
    "\n",
    "messages = [\n",
    "    {\"role\": \"user\", \"content\": \"Describe some of the business applications of Generative AI\"}\n",
    "]"
   ]
  },
  {
   "cell_type": "code",
   "execution_count": 4,
   "id": "7bb9c624-14f0-4945-a719-8ddb64f66f47",
   "metadata": {},
   "outputs": [],
   "source": [
    "payload = {\n",
    "        \"model\": MODEL,\n",
    "        \"messages\": messages,\n",
    "        \"stream\": False\n",
    "    }"
   ]
  },
  {
   "cell_type": "code",
   "execution_count": 1,
   "id": "479ff514-e8bd-4985-a572-2ea28bb4fa40",
   "metadata": {},
   "outputs": [
    {
     "name": "stderr",
     "output_type": "stream",
     "text": [
      "\u001b[?25lpulling manifest â ‹ \u001b[?25h\u001b[?25l\u001b[2K\u001b[1Gpulling manifest â ™ \u001b[?25h\u001b[?25l\u001b[2K\u001b[1Gpulling manifest â ¹ \u001b[?25h\u001b[?25l\u001b[2K\u001b[1Gpulling manifest â ¸ \u001b[?25h\u001b[?25l\u001b[2K\u001b[1Gpulling manifest â ¼ \u001b[?25h\u001b[?25l\u001b[2K\u001b[1Gpulling manifest â ´ \u001b[?25h\u001b[?25l\u001b[2K\u001b[1Gpulling manifest â ¦ \u001b[?25h\u001b[?25l\u001b[2K\u001b[1Gpulling manifest â § \u001b[?25h\u001b[?25l\u001b[2K\u001b[1Gpulling manifest â ‡ \u001b[?25h\u001b[?25l\u001b[2K\u001b[1Gpulling manifest â � \u001b[?25h\u001b[?25l\u001b[2K\u001b[1Gpulling manifest â ‹ \u001b[?25h\u001b[?25l\u001b[2K\u001b[1Gpulling manifest \n",
      "pulling dde5aa3fc5ff... 100% â–•â–ˆâ–ˆâ–ˆâ–ˆâ–ˆâ–ˆâ–ˆâ–ˆâ–ˆâ–ˆâ–ˆâ–ˆâ–ˆâ–ˆâ–ˆâ–ˆâ–� 2.0 GB                         \n",
      "pulling 966de95ca8a6... 100% â–•â–ˆâ–ˆâ–ˆâ–ˆâ–ˆâ–ˆâ–ˆâ–ˆâ–ˆâ–ˆâ–ˆâ–ˆâ–ˆâ–ˆâ–ˆâ–ˆâ–� 1.4 KB                         \n",
      "pulling fcc5a6bec9da... 100% â–•â–ˆâ–ˆâ–ˆâ–ˆâ–ˆâ–ˆâ–ˆâ–ˆâ–ˆâ–ˆâ–ˆâ–ˆâ–ˆâ–ˆâ–ˆâ–ˆâ–� 7.7 KB                         \n",
      "pulling a70ff7e570d9... 100% â–•â–ˆâ–ˆâ–ˆâ–ˆâ–ˆâ–ˆâ–ˆâ–ˆâ–ˆâ–ˆâ–ˆâ–ˆâ–ˆâ–ˆâ–ˆâ–ˆâ–� 6.0 KB                         \n",
      "pulling 56bb8bd477a5... 100% â–•â–ˆâ–ˆâ–ˆâ–ˆâ–ˆâ–ˆâ–ˆâ–ˆâ–ˆâ–ˆâ–ˆâ–ˆâ–ˆâ–ˆâ–ˆâ–ˆâ–�   96 B                         \n",
      "pulling 34bb5ab01051... 100% â–•â–ˆâ–ˆâ–ˆâ–ˆâ–ˆâ–ˆâ–ˆâ–ˆâ–ˆâ–ˆâ–ˆâ–ˆâ–ˆâ–ˆâ–ˆâ–ˆâ–�  561 B                         \n",
      "verifying sha256 digest \n",
      "writing manifest \n",
      "success \u001b[?25h\n"
     ]
    }
   ],
   "source": [
    "# Let's just make sure the model is loaded\n",
    "\n",
    "!ollama pull llama3.2"
   ]
  },
  {
   "cell_type": "code",
   "execution_count": 5,
   "id": "42b9f644-522d-4e05-a691-56e7658c0ea9",
   "metadata": {},
   "outputs": [
    {
     "name": "stdout",
     "output_type": "stream",
     "text": [
      "Generative AI has numerous business applications across various industries, including:\n",
      "\n",
      "1. **Content Creation**: Generative AI can generate high-quality content such as articles, social media posts, and product descriptions, saving time and resources for content creators.\n",
      "2. **Graphic Design and Visual Content**: Generative AI can create visually appealing graphics, logos, and images, making it an ideal tool for graphic designers and marketing teams.\n",
      "3. **Product Recommendations**: Generative AI-powered recommendation engines can suggest products to customers based on their preferences, purchase history, and behavior, enhancing the overall customer experience.\n",
      "4. **Customer Service Chatbots**: Generative AI can power chatbots that provide 24/7 customer support, answering common questions, and helping customers with simple queries.\n",
      "5. **Marketing Automation**: Generative AI can automate marketing tasks such as email marketing, social media posting, and ad creation, freeing up resources for more strategic initiatives.\n",
      "6. **Data Analysis and Visualization**: Generative AI can analyze large datasets, identify patterns, and create visualizations to help businesses make data-driven decisions.\n",
      "7. **Personalization**: Generative AI can personalize user experiences by creating customized content, offers, and recommendations based on individual preferences and behavior.\n",
      "8. **Brand Voice and Tone**: Generative AI can help brands develop a consistent tone and voice across all marketing channels, ensuring a cohesive brand image.\n",
      "9. **Influencer Marketing**: Generative AI can suggest influencers who align with a brand's values and target audience, streamlining the influencer marketing process.\n",
      "10. **Supply Chain Optimization**: Generative AI can analyze supply chain data to identify inefficiencies, predict demand, and optimize logistics, leading to improved inventory management and reduced costs.\n",
      "11. **Predictive Maintenance**: Generative AI-powered predictive maintenance tools can detect equipment failures before they occur, reducing downtime and increasing overall efficiency.\n",
      "12. **Financial Modeling and Forecasting**: Generative AI can analyze historical data, identify patterns, and create financial models to help businesses predict future growth and optimize investment decisions.\n",
      "13. **Sales Enablement**: Generative AI can provide sales teams with real-time data, insights, and personalized content to improve sales performance and customer engagement.\n",
      "14. **Cybersecurity**: Generative AI-powered cybersecurity tools can detect and respond to threats in real-time, reducing the risk of data breaches and cyber attacks.\n",
      "15. **Business Process Automation**: Generative AI can automate business processes such as HR onboarding, account reconciliation, and order processing, freeing up resources for more strategic initiatives.\n",
      "\n",
      "These are just a few examples of the many business applications of Generative AI. As the technology continues to evolve, we can expect to see even more innovative use cases emerge across various industries.\n"
     ]
    }
   ],
   "source": [
    "# If this doesn't work for any reason, try the 2 versions in the following cells\n",
    "# And double check the instructions in the 'Recap on installation of Ollama' at the top of this lab\n",
    "# And if none of that works - contact me!\n",
    "\n",
    "response = requests.post(OLLAMA_API, json=payload, headers=HEADERS)\n",
    "print(response.json()['message']['content'])"
   ]
  },
  {
   "cell_type": "markdown",
   "id": "6a021f13-d6a1-4b96-8e18-4eae49d876fe",
   "metadata": {},
   "source": [
    "# Introducing the ollama package\n",
    "\n",
    "And now we'll do the same thing, but using the elegant ollama python package instead of a direct HTTP call.\n",
    "\n",
    "Under the hood, it's making the same call as above to the ollama server running at localhost:11434"
   ]
  },
  {
   "cell_type": "code",
   "execution_count": 10,
   "id": "7745b9c4-57dc-4867-9180-61fa5db55eb8",
   "metadata": {},
   "outputs": [
    {
     "name": "stdout",
     "output_type": "stream",
     "text": [
      "Generative AI has numerous business applications across various industries, including:\n",
      "\n",
      "1. **Content Generation**: AI can be used to generate high-quality content such as articles, blog posts, social media posts, product descriptions, and more. This can help reduce content creation costs and improve efficiency.\n",
      "2. **Image and Video Creation**: Generative AI can create realistic images and videos, which can be used for advertising, marketing, entertainment, and more.\n",
      "3. **Design Assistance**: AI-powered design tools can assist in generating designs, such as logos, infographics, and product packaging.\n",
      "4. **Chatbots and Virtual Assistants**: Generative AI can be used to develop chatbots and virtual assistants that can understand natural language and provide personalized customer support.\n",
      "5. **Predictive Analytics**: AI can analyze large datasets to predict future trends, identify patterns, and make predictions, which can help businesses make data-driven decisions.\n",
      "6. **Sales Enablement**: AI-powered tools can generate personalized sales materials, such as emails, brochures, and proposals, to help sales teams close deals more effectively.\n",
      "7. **Marketing Automation**: Generative AI can be used to automate marketing campaigns, such as generating social media posts, email marketing campaigns, and personalized offers.\n",
      "8. **Customer Service**: AI-powered tools can analyze customer feedback, generate responses, and provide personalized support to customers.\n",
      "9. **Product Development**: Generative AI can help design and develop new products by analyzing customer data, market trends, and product requirements.\n",
      "10. **Risk Assessment**: AI can be used to identify potential risks and threats to a business, such as identifying vulnerabilities in software or predicting the likelihood of a cyberattack.\n",
      "\n",
      "Some specific examples of businesses that are using Generative AI include:\n",
      "\n",
      "1. **Netflix**: Using Generative AI to predict user behavior and recommend personalized content.\n",
      "2. **Amazon**: Using Generative AI to generate product descriptions, generate recommendations, and provide personalized customer support.\n",
      "3. **Adobe**: Using Generative AI to create realistic images and videos for advertising and marketing campaigns.\n",
      "4. **Salesforce**: Using Generative AI to develop chatbots and virtual assistants that can understand natural language and provide personalized customer support.\n",
      "5. **Porsche**: Using Generative AI to design and develop new car models, including conceptual designs and prototypes.\n",
      "\n",
      "These are just a few examples of the many businesses that are leveraging Generative AI to improve their operations, increase efficiency, and drive innovation.\n"
     ]
    }
   ],
   "source": [
    "import ollama\n",
    "\n",
    "response = ollama.chat(model=MODEL, messages=messages)\n",
    "print(response['message']['content'])"
   ]
  },
  {
   "cell_type": "markdown",
   "id": "a4704e10-f5fb-4c15-a935-f046c06fb13d",
   "metadata": {},
   "source": [
    "## Alternative approach - using OpenAI python library to connect to Ollama"
   ]
  },
  {
   "cell_type": "code",
   "execution_count": 11,
   "id": "23057e00-b6fc-4678-93a9-6b31cb704bff",
   "metadata": {},
   "outputs": [
    {
     "name": "stdout",
     "output_type": "stream",
     "text": [
      "Generative AI (Artificial Intelligence) has numerous business applications across various industries, including:\n",
      "\n",
      "1. **Content Creation**: Generative AI can create high-quality content such as images, videos, music, and text at an unprecedented scale and speed. This can be used for:\n",
      " * Creating social media content in bulk\n",
      " * Generating product descriptions or sales copy\n",
      " * Developing chatbots for customer support\n",
      "2. **Personalization**: Generative AI can generate personalized content based on user data, preferences, and behavior, making it ideal for:\n",
      " * Recommendation systems (e.g., movies, music, products)\n",
      " * Customized marketing campaigns\n",
      " * Personalized customer service interactions\n",
      "3. **Data Analysis and Visualization**: Generative AI can analyze large datasets and create informative visualizations to help businesses:\n",
      " * Identify trends and patterns in data\n",
      " * Develop predictive models for forecasting demand or profitability\n",
      " * Create data-driven stories with interactive visualizations\n",
      "4. **Creative Writing and Design**: Generative AI can generate high-quality creative content such as:\n",
      " * Articles, blog posts, and social media posts\n",
      " * Product designs, logos, and branding materials\n",
      " * Music, melodies, and sound effects for video games or advertising\n",
      "5. **Virtual Humans**: Generative AI can create realistic virtual humans that can interact with customers, students, or employees in various scenarios, such as:\n",
      " * Virtual customer service chatbots\n",
      " * Intelligent tutoring systems for educational institutions\n",
      " * Augmented human interaction in call centers or sales environments\n",
      "6. **Game Development and Simulation**: Generative AI can generate new game levels, characters, or environments, speeding up the development process for:\n",
      " * Game developers\n",
      " * Architects and urban planners (e.g., simulations of buildings, cities)\n",
      " * Marketing agencies (e.g., scenarios for advertising campaigns)\n",
      "7. **Product Design and Prototyping**: Generative AI can help design products with customized shapes, colors, and materials, reducing development time and costs for:\n",
      " * Automotive manufacturers\n",
      " * Fashion brands\n",
      " * Manufacturers of consumer electronics\n",
      "8. **Risk Analysis and Compliance Management**: Generative AI can analyze large datasets to identify potential risks and provide insights on compliance regulations in areas such as:\n",
      " * Regulatory reporting\n",
      " * Anti-money laundering\n",
      " * Credit risk assessment\n",
      "9. **Cybersecurity Threat Intelligence**: Generative AI can help analyze patterns of malware, spear phishing campaigns, or threat actors' behavior, enabling more effective security analysis for organizations.\n",
      "10. **Customer Service and Support Automation**: Generative AI-powered chatbots and virtual assistants can provide quick responses, routing complex issues to human analysts, enhancing efficiency in customer service.\n",
      "\n",
      "These applications demonstrate the transformative potential of Generative AI across industries, automating manual tasks, freeing up time for more strategic work, and delivering higher quality customer experiences.\n"
     ]
    }
   ],
   "source": [
    "# There's actually an alternative approach that some people might prefer\n",
    "# You can use the OpenAI client python library to call Ollama:\n",
    "\n",
    "from openai import OpenAI\n",
    "ollama_via_openai = OpenAI(base_url='http://localhost:11434/v1', api_key='ollama')\n",
    "\n",
    "response = ollama_via_openai.chat.completions.create(\n",
    "    model=MODEL,\n",
    "    messages=messages\n",
    ")\n",
    "\n",
    "print(response.choices[0].message.content)"
   ]
  },
  {
   "cell_type": "markdown",
   "id": "1622d9bb-5c68-4d4e-9ca4-b492c751f898",
   "metadata": {},
   "source": [
    "# NOW the exercise for you\n",
    "\n",
    "Take the code from day1 and incorporate it here, to build a website summarizer that uses Llama 3.2 running locally instead of OpenAI; use either of the above approaches."
   ]
  },
  {
   "cell_type": "code",
   "execution_count": 6,
   "id": "402d5686-4e76-4110-b65a-b3906c35c0a4",
   "metadata": {},
   "outputs": [],
   "source": [
    "def summarize(url):\n",
    "    website = Website(url)\n",
    "    response = ollama_via_openai.chat.completions.create(\n",
    "    model=MODEL,\n",
    "    messages=messages\n",
    ")\n",
    "\n",
    "    return response.choices[0].message.content"
   ]
  },
  {
   "cell_type": "code",
   "execution_count": 7,
   "id": "22d39212-dd40-44ea-b5e6-49817e177bde",
   "metadata": {},
   "outputs": [
    {
     "ename": "NameError",
     "evalue": "name 'Website' is not defined",
     "output_type": "error",
     "traceback": [
      "\u001b[1;31m---------------------------------------------------------------------------\u001b[0m",
      "\u001b[1;31mNameError\u001b[0m                                 Traceback (most recent call last)",
      "Cell \u001b[1;32mIn[7], line 1\u001b[0m\n\u001b[1;32m----> 1\u001b[0m summarize(\u001b[38;5;124m\"\u001b[39m\u001b[38;5;124mhttps://edwarddonner.com\u001b[39m\u001b[38;5;124m\"\u001b[39m)\n",
      "Cell \u001b[1;32mIn[6], line 2\u001b[0m, in \u001b[0;36msummarize\u001b[1;34m(url)\u001b[0m\n\u001b[0;32m      1\u001b[0m \u001b[38;5;28;01mdef\u001b[39;00m \u001b[38;5;21msummarize\u001b[39m(url):\n\u001b[1;32m----> 2\u001b[0m     website \u001b[38;5;241m=\u001b[39m Website(url)\n\u001b[0;32m      3\u001b[0m     response \u001b[38;5;241m=\u001b[39m ollama_via_openai\u001b[38;5;241m.\u001b[39mchat\u001b[38;5;241m.\u001b[39mcompletions\u001b[38;5;241m.\u001b[39mcreate(\n\u001b[0;32m      4\u001b[0m     model\u001b[38;5;241m=\u001b[39mMODEL,\n\u001b[0;32m      5\u001b[0m     messages\u001b[38;5;241m=\u001b[39mmessages\n\u001b[0;32m      6\u001b[0m )\n\u001b[0;32m      8\u001b[0m     \u001b[38;5;28;01mreturn\u001b[39;00m response\u001b[38;5;241m.\u001b[39mchoices[\u001b[38;5;241m0\u001b[39m]\u001b[38;5;241m.\u001b[39mmessage\u001b[38;5;241m.\u001b[39mcontent\n",
      "\u001b[1;31mNameError\u001b[0m: name 'Website' is not defined"
     ]
    }
   ],
   "source": [
    "summarize(\"https://edwarddonner.com\")"
   ]
  },
  {
   "cell_type": "code",
   "execution_count": 12,
   "id": "1981e44e-8eed-4286-865b-4e96b553bed6",
   "metadata": {},
   "outputs": [],
   "source": [
    "# A class to represent a Webpage\n",
    "# If you're not familiar with Classes, check out the \"Intermediate Python\" notebook\n",
    "\n",
    "# Some websites need you to use proper headers when fetching them:\n",
    "from openai import OpenAI\n",
    "ollama_via_openai = OpenAI(base_url='http://localhost:11434/v1', api_key='ollama')\n",
    "\n",
    "headers = {\n",
    " \"User-Agent\": \"Mozilla/5.0 (Windows NT 10.0; Win64; x64) AppleWebKit/537.36 (KHTML, like Gecko) Chrome/117.0.0.0 Safari/537.36\"\n",
    "}\n",
    "\n",
    "class Website:\n",
    "\n",
    "    def __init__(self, url):\n",
    "        \"\"\"\n",
    "        Create this Website object from the given url using the BeautifulSoup library\n",
    "        \"\"\"\n",
    "        self.url = url\n",
    "        response = requests.get(url, headers=headers)\n",
    "        soup = BeautifulSoup(response.content, 'html.parser')\n",
    "        self.title = soup.title.string if soup.title else \"No title found\"\n",
    "        for irrelevant in soup.body([\"script\", \"style\", \"img\", \"input\"]):\n",
    "            irrelevant.decompose()\n",
    "        self.text = soup.body.get_text(separator=\"\\n\", strip=True)"
   ]
  },
  {
   "cell_type": "code",
   "execution_count": 13,
   "id": "b729de0f-96ca-450f-9edb-73d51169baea",
   "metadata": {},
   "outputs": [
    {
     "data": {
      "text/plain": [
       "\"Generative AI has numerous business applications across various industries, including:\\n\\n1. **Content Creation**: Generative AI can produce high-quality content such as articles, social media posts, product descriptions, and even entire websites. This can help businesses save time and resources on content creation.\\n2. **Digital Marketing**: Generative AI can assist in writing SEO-friendly blog posts, generating ad copy, and creating targeted social media ads.\\n3. **Product Design**: Generative AI can be used to design complex products such as electronics, furniture, or even entire buildings. This can save companies time and resources on product development.\\n4. **Music Composition**: Generative AI can compose music for various applications such as video games, advertising campaigns, or even orchestras.\\n5. **Data Analysis**: Generative AI can be used to analyze large datasets, identify patterns, and make predictions. This can help businesses gain insights into customer behavior, market trends, and operational efficiency.\\n6. **Language Translation**: Generative AI can translate text, images, and even speeches, making it possible to communicate with customers and partners across languages and cultures.\\n7. **Automated Writing**: Generative AI can be used to generate reports, emails, and other documents, freeing up time for more strategic tasks.\\n\\nIn terms of specific industries:\\n\\n1. **Finance**: Generative AI can help analyze financial data, identify trends, and make predictions on market fluctuations.\\n2. **Healthcare**: Generative AI can assist in medical research, diagnose diseases, and develop personalized treatment plans.\\n3. **Manufacturing**: Generative AI can optimize production processes, predict maintenance needs, and improve product quality.\\n4. **Retail**: Generative AI can personalize shopping experiences, recommend products, and optimize supply chains.\\n5. **Film and Entertainment**: Generative AI can assist in scriptwriting, music composition, and animation creation.\\n\\nSome of the key benefits of using Generative AI in business include:\\n\\n1. **Increased Efficiency**: Automating routine tasks freeing up human resources for more strategic activities.\\n2. **Improve Accuracy**: Reducing errors and inconsistencies by leveraging AI-powered tools.\\n3. **Enhanced Creativity**: Collaborating with AI to generate innovative ideas and solutions.\\n4. **Personalization**: Creating tailored experiences and content that meet individual customer needs.\\n5. **Scalability**: Meeting growing demand for products and services by analyzing large datasets.\\n\\nHowever, it's essential to consider the challenges associated with using Generative AI in business, such as:\\n\\n1. **Data Quality**: Ensuring accurate and reliable data input is necessary for effective Generative AI performance.\\n2. **Bias and Fairness**: Mitigating potential biases in AI models and ensuring fairness in decision-making processes.\\n3. **Explainability**: Providing insights into the reasoning behind AI-generated outputs to build trust with stakeholders.\\n\\nOverall, Generative AI has the potential to revolutionize various business applications by increasing efficiency, improving accuracy, enhancing creativity, personalizing experiences, and scaling operations.\""
      ]
     },
     "execution_count": 13,
     "metadata": {},
     "output_type": "execute_result"
    }
   ],
   "source": [
    "summarize(\"https://edwarddonner.com\")"
   ]
  },
  {
   "cell_type": "code",
   "execution_count": null,
   "id": "65468dfb-c92c-4cda-b371-98e34721ecc2",
   "metadata": {},
   "outputs": [],
   "source": []
  }
 ],
 "metadata": {
  "kernelspec": {
   "display_name": "Python 3 (ipykernel)",
   "language": "python",
   "name": "python3"
  },
  "language_info": {
   "codemirror_mode": {
    "name": "ipython",
    "version": 3
   },
   "file_extension": ".py",
   "mimetype": "text/x-python",
   "name": "python",
   "nbconvert_exporter": "python",
   "pygments_lexer": "ipython3",
   "version": "3.12.7"
  }
 },
 "nbformat": 4,
 "nbformat_minor": 5
}
