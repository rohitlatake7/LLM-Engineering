{
 "cells": [
  {
   "cell_type": "code",
   "execution_count": 19,
   "id": "ed3b6b28-2f9c-4dd8-9e4f-ee628b313eab",
   "metadata": {},
   "outputs": [],
   "source": [
    "import os\n",
    "import requests\n",
    "from bs4 import BeautifulSoup\n",
    "from IPython.display import Markdown, display\n",
    "from dotenv import load_dotenv\n",
    "from openai import OpenAI"
   ]
  },
  {
   "cell_type": "code",
   "execution_count": 28,
   "id": "56267ad5-d457-4624-9e37-23ae4fc22e39",
   "metadata": {},
   "outputs": [],
   "source": [
    "load_dotenv(override=True)\n",
    "api_key = os.getenv('OPENAI_API_KEY')"
   ]
  },
  {
   "cell_type": "code",
   "execution_count": 29,
   "id": "019c33be-2dd3-422b-9107-bf7beca2b8b5",
   "metadata": {},
   "outputs": [],
   "source": [
    "openai = OpenAI()"
   ]
  },
  {
   "cell_type": "code",
   "execution_count": 35,
   "id": "adcfa2fd-c003-4bb4-bde9-f8cec47fd9c1",
   "metadata": {},
   "outputs": [],
   "source": [
    "message= \"Please explain what this code does and why: yield from {book.get('author') for book in books if book.get('author')\""
   ]
  },
  {
   "cell_type": "code",
   "execution_count": 33,
   "id": "b9d5cfe5-76f3-4345-92a8-0d720894c33a",
   "metadata": {},
   "outputs": [],
   "source": [
    "message=\"Please explain Concrete M20 grade\""
   ]
  },
  {
   "cell_type": "code",
   "execution_count": 34,
   "id": "eedfc983-bb0f-4476-9d26-a3ec109a7602",
   "metadata": {},
   "outputs": [
    {
     "name": "stdout",
     "output_type": "stream",
     "text": [
      "Concrete is categorized into different grades based on compressive strength, and M20 is one such grade. The \"M\" in M20 stands for \"Mix,\" and the number \"20\" refers to the characteristic compressive strength of the concrete mix in Megapascals (MPa) at 28 days, which is 20 MPa.\n",
      "\n",
      "### Key Characteristics of M20 Concrete:\n",
      "\n",
      "1. **Mix Design**: \n",
      "   - The typical mix ratio for M20 concrete is 1:1.5:3 (Cement: Sand: Aggregate by volume).\n",
      "   - This means for every 1 part of cement, there are 1.5 parts of sand (fine aggregate) and 3 parts of coarse aggregate.\n",
      "\n",
      "2. **Compressive Strength**:\n",
      "   - M20 concrete achieves a characteristic strength of 20 MPa (approximately 2900 psi) when tested at 28 days.\n",
      "   - It is suitable for various structural applications where moderate strength is required.\n",
      "\n",
      "3. **Workability**:\n",
      "   - M20 concrete typically has good workability, making it easier to mix, transport, and place.\n",
      "   - The workability can be adjusted using water and admixtures if necessary.\n",
      "\n",
      "4. **Applications**:\n",
      "   - M20 is often used in the construction of pavements, slabs, and lightly loaded structures.\n",
      "   - It is also suitable for building columns and beams in residential constructions.\n",
      "\n",
      "5. **Water-Cement Ratio**:\n",
      "   - The water-cement ratio is an important factor in determining the strength and durability of concrete. For M20, a water-cement ratio of 0.5 to 0.55 is typically used.\n",
      "\n",
      "6. **Durability**: \n",
      "   - M20 concrete tends to have good durability for general weather conditions, especially when adequately cured.\n",
      "\n",
      "### Conclusion:\n",
      "M20 grade concrete is a widely used and versatile concrete mix with a compressive strength of 20 MPa. Its balance of strength and workability makes it suitable for a range of construction applications, but it's essential to consider the specific requirements of a project and local codes when selecting concrete grade.\n"
     ]
    }
   ],
   "source": [
    "response = openai.chat.completions.create(model=\"gpt-4o-mini\", messages=[{\"role\":\"user\", \"content\":message}])\n",
    "print(response.choices[0].message.content)"
   ]
  },
  {
   "cell_type": "code",
   "execution_count": null,
   "id": "307bb321-4680-4a17-b7ef-41ca9df645e2",
   "metadata": {},
   "outputs": [],
   "source": []
  }
 ],
 "metadata": {
  "kernelspec": {
   "display_name": "Python 3 (ipykernel)",
   "language": "python",
   "name": "python3"
  },
  "language_info": {
   "codemirror_mode": {
    "name": "ipython",
    "version": 3
   },
   "file_extension": ".py",
   "mimetype": "text/x-python",
   "name": "python",
   "nbconvert_exporter": "python",
   "pygments_lexer": "ipython3",
   "version": "3.12.7"
  }
 },
 "nbformat": 4,
 "nbformat_minor": 5
}
