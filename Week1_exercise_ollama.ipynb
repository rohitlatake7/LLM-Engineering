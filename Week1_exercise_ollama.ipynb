{
 "cells": [
  {
   "cell_type": "code",
   "execution_count": 35,
   "id": "a633aa74-cdb9-4118-8659-99e5a7519855",
   "metadata": {},
   "outputs": [],
   "source": [
    "import requests\n",
    "from IPython.display import Markdown, display\n",
    "from bs4 import BeautifulSoup"
   ]
  },
  {
   "cell_type": "code",
   "execution_count": 36,
   "id": "a41320b7-b676-4c97-8b09-ac09a41874d5",
   "metadata": {},
   "outputs": [],
   "source": [
    "OLLAMA_API = \"http://localhost:11434/api/chat/\""
   ]
  },
  {
   "cell_type": "code",
   "execution_count": 37,
   "id": "3f405030-7c77-49f5-9bc1-bbfb5d92c89a",
   "metadata": {},
   "outputs": [],
   "source": [
    "OLLAMA_API = \"http://localhost:11434/api/chat\"\n",
    "HEADERS = {\"Content-Type\": \"application/json\"}"
   ]
  },
  {
   "cell_type": "code",
   "execution_count": 38,
   "id": "7c6a72ac-36bb-47e1-9031-63db94fbdbdc",
   "metadata": {},
   "outputs": [],
   "source": [
    "MODEL = \"llama3.2\""
   ]
  },
  {
   "cell_type": "code",
   "execution_count": 39,
   "id": "4470cfa3-3ba4-478c-94e5-91149112fc1f",
   "metadata": {},
   "outputs": [],
   "source": [
    "messages = [\n",
    "    {\"role\": \"user\", \"content\": \"Please explain what this code does and why: yield from {book.get('author') for book in books if book.get('author')}\"}\n",
    "]"
   ]
  },
  {
   "cell_type": "code",
   "execution_count": 55,
   "id": "4470eecf-8b2c-4cba-9767-a846fb540094",
   "metadata": {},
   "outputs": [],
   "source": [
    "payload = {\n",
    "    \"model\" : MODEL,\n",
    "    \"messages\": messages,\n",
    "    \"stream\" : False\n",
    "    }"
   ]
  },
  {
   "cell_type": "code",
   "execution_count": 56,
   "id": "22b7fc7b-6a10-4063-be05-6c3521970916",
   "metadata": {},
   "outputs": [
    {
     "name": "stdout",
     "output_type": "stream",
     "text": [
      "**Code Explanation**\n",
      "\n",
      "This code snippet uses the `yield from` syntax in Python to generate a sequence of values from an iterator.\n",
      "\n",
      "Here's a breakdown:\n",
      "\n",
      "* `{...}` is a dictionary comprehension, which creates a new dictionary from a list of key-value pairs.\n",
      "* `book.get('author')` is an expression that attempts to retrieve the value associated with the key `'author'` for each book in the `books` collection. If the key doesn't exist or if its value is `None`, this expression will return `None`.\n",
      "* The `for book in books if book.get('author')` part filters the books collection to only include those that have an author.\n",
      "\n",
      "The entire dictionary comprehension is wrapped in a call to `yield from`.\n",
      "\n",
      "**Why it works**\n",
      "\n",
      "In Python 3.3 and later, the `yield from` syntax allows you to delegate to another iterator or generator, allowing the code inside the expression to generate values on-the-fly without having to build up all of them at once.\n",
      "\n",
      "When `yield from` is used with a dictionary comprehension like this one, it effectively creates a new iterator that yields each book in the filtered collection. The resulting iterator will contain only those books that have an author, along with their corresponding values (i.e., the authors).\n",
      "\n",
      "**Example Use Case**\n",
      "\n",
      "Suppose you're working with a list of books and want to iterate over only those books that have authors. You could write this as follows:\n",
      "```python\n",
      "for book in books:\n",
      "    if book.get('author'):\n",
      "        print(book['title'], book['author'])\n",
      "```\n",
      "However, using `yield from` can make the code more concise and expressive:\n",
      "```python\n",
      "import yield_from\n",
      "\n",
      "books = [...]\n",
      "\n",
      "for author_book in yield_from {book.get('author') for book in books if book.get('author')}:\n",
      "    print(author_book['title'], author_book)\n",
      "```\n",
      "In this example, the `yield_from` expression creates a new iterator that generates each book with an author. The loop then iterates over this iterator and prints the title and author of each book.\n",
      "\n",
      "**Benefits**\n",
      "\n",
      "Using `yield from` can provide several benefits:\n",
      "\n",
      "* Improved readability: By breaking up complex code into smaller, more manageable pieces, you can make your code easier to understand.\n",
      "* Reduced memory usage: By generating values on-the-fly, you can avoid building up large intermediate data structures in memory.\n",
      "* Better performance: Depending on the specific use case, `yield from` can help improve performance by reducing the amount of memory allocated and accessed.\n"
     ]
    }
   ],
   "source": [
    "response = requests.post(OLLAMA_API, json=payload, headers=HEADERS)\n",
    "print(response.json()['message']['content'])"
   ]
  },
  {
   "cell_type": "code",
   "execution_count": null,
   "id": "2a85e1dc-cd59-4f95-9e23-abe2776af660",
   "metadata": {},
   "outputs": [],
   "source": [
    "#below code using ollama package"
   ]
  },
  {
   "cell_type": "code",
   "execution_count": 57,
   "id": "e8d73e35-979b-483a-8f6d-6787417c1586",
   "metadata": {},
   "outputs": [
    {
     "name": "stdout",
     "output_type": "stream",
     "text": [
      "This line of code uses a combination of Python's iteration protocols and generator expressions to extract the author names from a list of books.\n",
      "\n",
      "Here's a breakdown:\n",
      "\n",
      "- `yield from`: This keyword is used to delegate iteration from one generator to another. It allows the sub-generator to produce values, which are then yielded by the current generator.\n",
      "\n",
      "- `{book.get('author') for book in books if book.get('author')}`: This is a generator expression that produces author names based on two conditions:\n",
      "  - `for book in books`: Iterate over each book in the `books` list.\n",
      "  - `if book.get('author')`: Only include authors from books where the `'author'` key exists and its value is not empty or None.\n",
      "\n",
      "- `book.get('author')`: This expression retrieves the author name for a given book. The `.get()` method returns the value of a specific key in a dictionary (or another data structure), and if that key does not exist, it returns a default value (in this case, `None`).\n",
      "\n",
      "So, putting it all together, this line of code produces an iterator over author names from books where the `'author'` key exists.\n",
      "\n",
      "Here's how you can use it in a loop:\n",
      "\n",
      "```python\n",
      "for author in yield from {book.get('author') for book in books if book.get('author')}:\n",
      "    print(author)\n",
      "```\n",
      "\n",
      "Or, with `yield`, this would produce an iterator over the author names that could be used by another function to return them one at a time.\n",
      "\n",
      "```python\n",
      "def get_authors(books):\n",
      "    yield from {book.get('author') for book in books if book.get('author')}\n",
      "```\n",
      "\n",
      "You can then call this generator and iterate over its values:\n",
      "\n",
      "```python\n",
      "for author in get_authors([{'title': 'Book1', 'author': 'John'}, {'title': 'Book2', 'author': None}, {'title': 'Book3', 'author': 'Alice'}]):\n",
      "    print(author)\n",
      "```\n",
      "\n",
      "This would output the following:\n",
      "\n",
      "```\n",
      "John\n",
      "None\n",
      "Alice\n",
      "```\n"
     ]
    }
   ],
   "source": [
    "import ollama\n",
    "response = ollama.chat(model=MODEL, messages=messages)\n",
    "print(response['message']['content'])"
   ]
  },
  {
   "cell_type": "code",
   "execution_count": 58,
   "id": "7baa0e5d-b21d-40be-a6d0-90813602aa80",
   "metadata": {},
   "outputs": [
    {
     "name": "stdout",
     "output_type": "stream",
     "text": [
      "This line of Python code uses a generator expression to extract the authors from a list of dictionaries, `books`.\n",
      "\n",
      "Here's a breakdown:\n",
      "\n",
      "- `yield from`: This is a keyword used in Python 3.3 and later versions. It allows generators to delegate their yielding values to other generators. In this case, it means we can use the `yield from` expression in conjunction with another iterative object.\n",
      "\n",
      "- `{}`: These are called dictionary literals in Python. They allow us to create a new dictionary by specifying key-value pairs without curly brackets at the beginning of the code.\n",
      "\n",
      "- `book.get('author')`: This uses the `.get()` method to safely retrieve the value associated with the 'author' key from each book dictionary. If the key does not exist, it returns `None` instead of raising an error.\n",
      "\n",
      "- `for book in books if book.get('author')`: This is a conditional iterator that only iterates over the dictionaries in the `books` list where 'author' exists.\n",
      "\n",
      "The `yield from` expression then uses these values in our generator, which are then yielded as results when iterating over it.\n",
      "\n",
      "Here's an equivalent but simpler version of this code:\n",
      "\n",
      "```python\n",
      "def get_authors(books):\n",
      "    authors = []\n",
      "    for book in books:\n",
      "        author_name = book.get('author')\n",
      "        if author_name is not None:\n",
      "            authors.append(author_name)\n",
      "    yield from authors\n",
      "```\n",
      "\n",
      "However, using `yield from` does make the code easier to read.\n"
     ]
    }
   ],
   "source": [
    "from openai import OpenAI\n",
    "ollama_via_openai = OpenAI(base_url='http://localhost:11434/v1', api_key='ollama')\n",
    "\n",
    "response = ollama_via_openai.chat.completions.create(\n",
    "    model=MODEL,\n",
    "    messages=messages\n",
    ")\n",
    "\n",
    "print(response.choices[0].message.content)"
   ]
  },
  {
   "cell_type": "code",
   "execution_count": null,
   "id": "ee52c769-4e95-4eaa-8ab0-23099b825b94",
   "metadata": {},
   "outputs": [],
   "source": []
  }
 ],
 "metadata": {
  "kernelspec": {
   "display_name": "Python 3 (ipykernel)",
   "language": "python",
   "name": "python3"
  },
  "language_info": {
   "codemirror_mode": {
    "name": "ipython",
    "version": 3
   },
   "file_extension": ".py",
   "mimetype": "text/x-python",
   "name": "python",
   "nbconvert_exporter": "python",
   "pygments_lexer": "ipython3",
   "version": "3.12.7"
  }
 },
 "nbformat": 4,
 "nbformat_minor": 5
}
