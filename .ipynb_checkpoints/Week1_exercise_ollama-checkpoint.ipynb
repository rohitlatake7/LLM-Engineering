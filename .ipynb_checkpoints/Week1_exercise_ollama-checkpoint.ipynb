{
 "cells": [
  {
   "cell_type": "code",
   "execution_count": 1,
   "id": "a633aa74-cdb9-4118-8659-99e5a7519855",
   "metadata": {},
   "outputs": [],
   "source": [
    "import requests\n",
    "from IPython.display import Markdown, display\n",
    "from bs4 import BeautifulSoup"
   ]
  },
  {
   "cell_type": "code",
   "execution_count": 2,
   "id": "a41320b7-b676-4c97-8b09-ac09a41874d5",
   "metadata": {},
   "outputs": [],
   "source": [
    "OLLAMA_API = \"http://localhost:11434/api/chat/\""
   ]
  },
  {
   "cell_type": "code",
   "execution_count": 3,
   "id": "3f405030-7c77-49f5-9bc1-bbfb5d92c89a",
   "metadata": {},
   "outputs": [],
   "source": [
    "OLLAMA_API = \"http://localhost:11434/api/chat\"\n",
    "HEADERS = {\"Content-Type\": \"application/json\"}"
   ]
  },
  {
   "cell_type": "code",
   "execution_count": 4,
   "id": "7c6a72ac-36bb-47e1-9031-63db94fbdbdc",
   "metadata": {},
   "outputs": [],
   "source": [
    "MODEL = \"llama3.2\""
   ]
  },
  {
   "cell_type": "code",
   "execution_count": 39,
   "id": "4470cfa3-3ba4-478c-94e5-91149112fc1f",
   "metadata": {},
   "outputs": [],
   "source": [
    "messages = [\n",
    "    {\"role\": \"user\", \"content\": \"Please explain what this code does and why: yield from {book.get('author') for book in books if book.get('author')}\"}\n",
    "]"
   ]
  },
  {
   "cell_type": "code",
   "execution_count": 14,
   "id": "abec8184-63c6-4bb9-a66a-f00fe5ff1e80",
   "metadata": {},
   "outputs": [],
   "source": [
    "messages = [\n",
    "    {\"role\": \"user\", \"content\": \"Introduction of Brihanmumbai Municipal Corporation?\"}\n",
    "]"
   ]
  },
  {
   "cell_type": "code",
   "execution_count": 15,
   "id": "4470eecf-8b2c-4cba-9767-a846fb540094",
   "metadata": {},
   "outputs": [],
   "source": [
    "payload = {\n",
    "    \"model\" : MODEL,\n",
    "    \"messages\": messages,\n",
    "    \"stream\" : False\n",
    "    }"
   ]
  },
  {
   "cell_type": "code",
   "execution_count": 16,
   "id": "22b7fc7b-6a10-4063-be05-6c3521970916",
   "metadata": {},
   "outputs": [
    {
     "name": "stdout",
     "output_type": "stream",
     "text": [
      "The Brihanmumbai Municipal Corporation (BMC) is the municipal corporation responsible for governing the city of Mumbai, which is located in the state of Maharashtra, India. The BMC was established in 1888 and has a population of over 21 million people.\n",
      "\n",
      "Here's an introduction to the BMC:\n",
      "\n",
      "**History:** The BMC was formed in 1888 as the Bombay City Municipal Corporation (BCMC), with the aim of providing basic civic amenities such as water supply, sanitation, and street lighting to the rapidly growing city. Over time, the corporation has undergone several changes, including a name change to the Brihanmumbai Municipal Corporation in 1995.\n",
      "\n",
      "**Structure:** The BMC is headed by a Mayor, who is elected by the citizens of Mumbai through a democratic process. The Mayor is assisted by a Deputy Mayor and a Commissioner, who is responsible for implementing the policies and programs of the corporation.\n",
      "\n",
      "**Functions:** The BMC is responsible for providing a range of civic services to its residents, including:\n",
      "\n",
      "1. Water supply: The BMC operates a large network of water supply pipes that provide clean drinking water to over 50% of Mumbai's population.\n",
      "2. Sanitation: The BMC manages a complex system of sewage treatment plants and waste management facilities to keep the city clean.\n",
      "3. Street lighting: The BMC maintains an extensive network of streetlights to illuminate the city streets at night.\n",
      "4. Roads and transportation: The BMC is responsible for maintaining the city's roads, including repairing potholes, resurfacing roads, and providing public transportation services such as buses and autorickshaws.\n",
      "5. Healthcare: The BMC operates a number of hospitals and healthcare facilities across the city to provide medical care to its residents.\n",
      "\n",
      "**Challenges:** Despite its significant responsibilities, the BMC faces several challenges, including:\n",
      "\n",
      "1. Overcrowding: Mumbai is one of the most populous cities in the world, which puts a strain on the corporation's resources.\n",
      "2. Corruption: The BMC has faced allegations of corruption and irregularities in its functioning over the years.\n",
      "3. Environmental degradation: The city's rapid growth has led to environmental degradation, including air pollution and waste management issues.\n",
      "\n",
      "**Reforms:** In recent years, the BMC has implemented several reforms aimed at improving its efficiency and effectiveness, including:\n",
      "\n",
      "1. Decentralization: The BMC has devolved power to smaller wards and corporators to give them more autonomy in decision-making.\n",
      "2. Digitalization: The BMC has launched a range of digital initiatives, including a mobile app that allows citizens to report civic issues and complaints online.\n",
      "3. Infrastructure development: The BMC has invested heavily in infrastructure development projects such as roads, bridges, and public transportation systems.\n",
      "\n",
      "Overall, the Brihanmumbai Municipal Corporation plays a critical role in providing basic civic amenities to the residents of Mumbai, while also working to address some of the city's most pressing challenges.\n"
     ]
    }
   ],
   "source": [
    "response = requests.post(OLLAMA_API, json=payload, headers=HEADERS)\n",
    "print(response.json()['message']['content'])"
   ]
  },
  {
   "cell_type": "code",
   "execution_count": null,
   "id": "2a85e1dc-cd59-4f95-9e23-abe2776af660",
   "metadata": {},
   "outputs": [],
   "source": [
    "#below code using ollama package"
   ]
  },
  {
   "cell_type": "code",
   "execution_count": 57,
   "id": "e8d73e35-979b-483a-8f6d-6787417c1586",
   "metadata": {},
   "outputs": [
    {
     "name": "stdout",
     "output_type": "stream",
     "text": [
      "This line of code uses a combination of Python's iteration protocols and generator expressions to extract the author names from a list of books.\n",
      "\n",
      "Here's a breakdown:\n",
      "\n",
      "- `yield from`: This keyword is used to delegate iteration from one generator to another. It allows the sub-generator to produce values, which are then yielded by the current generator.\n",
      "\n",
      "- `{book.get('author') for book in books if book.get('author')}`: This is a generator expression that produces author names based on two conditions:\n",
      "  - `for book in books`: Iterate over each book in the `books` list.\n",
      "  - `if book.get('author')`: Only include authors from books where the `'author'` key exists and its value is not empty or None.\n",
      "\n",
      "- `book.get('author')`: This expression retrieves the author name for a given book. The `.get()` method returns the value of a specific key in a dictionary (or another data structure), and if that key does not exist, it returns a default value (in this case, `None`).\n",
      "\n",
      "So, putting it all together, this line of code produces an iterator over author names from books where the `'author'` key exists.\n",
      "\n",
      "Here's how you can use it in a loop:\n",
      "\n",
      "```python\n",
      "for author in yield from {book.get('author') for book in books if book.get('author')}:\n",
      "    print(author)\n",
      "```\n",
      "\n",
      "Or, with `yield`, this would produce an iterator over the author names that could be used by another function to return them one at a time.\n",
      "\n",
      "```python\n",
      "def get_authors(books):\n",
      "    yield from {book.get('author') for book in books if book.get('author')}\n",
      "```\n",
      "\n",
      "You can then call this generator and iterate over its values:\n",
      "\n",
      "```python\n",
      "for author in get_authors([{'title': 'Book1', 'author': 'John'}, {'title': 'Book2', 'author': None}, {'title': 'Book3', 'author': 'Alice'}]):\n",
      "    print(author)\n",
      "```\n",
      "\n",
      "This would output the following:\n",
      "\n",
      "```\n",
      "John\n",
      "None\n",
      "Alice\n",
      "```\n"
     ]
    }
   ],
   "source": [
    "import ollama\n",
    "response = ollama.chat(model=MODEL, messages=messages)\n",
    "print(response['message']['content'])"
   ]
  },
  {
   "cell_type": "code",
   "execution_count": 58,
   "id": "7baa0e5d-b21d-40be-a6d0-90813602aa80",
   "metadata": {},
   "outputs": [
    {
     "name": "stdout",
     "output_type": "stream",
     "text": [
      "This line of Python code uses a generator expression to extract the authors from a list of dictionaries, `books`.\n",
      "\n",
      "Here's a breakdown:\n",
      "\n",
      "- `yield from`: This is a keyword used in Python 3.3 and later versions. It allows generators to delegate their yielding values to other generators. In this case, it means we can use the `yield from` expression in conjunction with another iterative object.\n",
      "\n",
      "- `{}`: These are called dictionary literals in Python. They allow us to create a new dictionary by specifying key-value pairs without curly brackets at the beginning of the code.\n",
      "\n",
      "- `book.get('author')`: This uses the `.get()` method to safely retrieve the value associated with the 'author' key from each book dictionary. If the key does not exist, it returns `None` instead of raising an error.\n",
      "\n",
      "- `for book in books if book.get('author')`: This is a conditional iterator that only iterates over the dictionaries in the `books` list where 'author' exists.\n",
      "\n",
      "The `yield from` expression then uses these values in our generator, which are then yielded as results when iterating over it.\n",
      "\n",
      "Here's an equivalent but simpler version of this code:\n",
      "\n",
      "```python\n",
      "def get_authors(books):\n",
      "    authors = []\n",
      "    for book in books:\n",
      "        author_name = book.get('author')\n",
      "        if author_name is not None:\n",
      "            authors.append(author_name)\n",
      "    yield from authors\n",
      "```\n",
      "\n",
      "However, using `yield from` does make the code easier to read.\n"
     ]
    }
   ],
   "source": [
    "from openai import OpenAI\n",
    "ollama_via_openai = OpenAI(base_url='http://localhost:11434/v1', api_key='ollama')\n",
    "\n",
    "response = ollama_via_openai.chat.completions.create(\n",
    "    model=MODEL,\n",
    "    messages=messages\n",
    ")\n",
    "\n",
    "print(response.choices[0].message.content)"
   ]
  },
  {
   "cell_type": "code",
   "execution_count": null,
   "id": "ee52c769-4e95-4eaa-8ab0-23099b825b94",
   "metadata": {},
   "outputs": [],
   "source": []
  }
 ],
 "metadata": {
  "kernelspec": {
   "display_name": "Python 3 (ipykernel)",
   "language": "python",
   "name": "python3"
  },
  "language_info": {
   "codemirror_mode": {
    "name": "ipython",
    "version": 3
   },
   "file_extension": ".py",
   "mimetype": "text/x-python",
   "name": "python",
   "nbconvert_exporter": "python",
   "pygments_lexer": "ipython3",
   "version": "3.12.7"
  }
 },
 "nbformat": 4,
 "nbformat_minor": 5
}
