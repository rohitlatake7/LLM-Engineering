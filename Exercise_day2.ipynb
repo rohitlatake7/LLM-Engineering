{
 "cells": [
  {
   "cell_type": "code",
   "execution_count": 12,
   "id": "03a582e5-c10b-4e87-b1a0-03b5a6cc5295",
   "metadata": {},
   "outputs": [],
   "source": [
    "headers = {\n",
    " \"User-Agent\": \"Mozilla/5.0 (Windows NT 10.0; Win64; x64) AppleWebKit/537.36 (KHTML, like Gecko) Chrome/117.0.0.0 Safari/537.36\"\n",
    "}\n",
    "\n",
    "class Website:\n",
    "\n",
    "    def __init__(self, url):\n",
    "        \"\"\"\n",
    "        Create this Website object from the given url using the BeautifulSoup library\n",
    "        \"\"\"\n",
    "        self.url = url\n",
    "        response = requests.get(url, headers=headers)\n",
    "        soup = BeautifulSoup(response.content, 'html.parser')\n",
    "        self.title = soup.title.string if soup.title else \"No title found\"\n",
    "        for irrelevant in soup.body([\"script\", \"style\", \"img\", \"input\"]):\n",
    "            irrelevant.decompose()\n",
    "        self.text = soup.body.get_text(separator=\"\\n\", strip=True)"
   ]
  },
  {
   "cell_type": "code",
   "execution_count": 13,
   "id": "8ca400d5-f3a6-4848-bcbd-65bfffa8ce98",
   "metadata": {},
   "outputs": [
    {
     "name": "stdout",
     "output_type": "stream",
     "text": [
      "Home - Edward Donner\n",
      "Home\n",
      "Outsmart\n",
      "An arena that pits LLMs against each other in a battle of diplomacy and deviousness\n",
      "About\n",
      "Posts\n",
      "Well, hi there.\n",
      "I’m Ed. I like writing code and experimenting with LLMs, and hopefully you’re here because you do too. I also enjoy DJing (but I’m badly out of practice), amateur electronic music production (\n",
      "very\n",
      "amateur) and losing myself in\n",
      "Hacker News\n",
      ", nodding my head sagely to things I only half understand.\n",
      "I’m the co-founder and CTO of\n",
      "Nebula.io\n",
      ". We’re applying AI to a field where it can make a massive, positive impact: helping people discover their potential and pursue their reason for being. Recruiters use our product today to source, understand, engage and manage talent. I’m previously the founder and CEO of AI startup untapt,\n",
      "acquired in 2021\n",
      ".\n",
      "We work with groundbreaking, proprietary LLMs verticalized for talent, we’ve\n",
      "patented\n",
      "our matching model, and our award-winning platform has happy customers and tons of press coverage.\n",
      "Connect\n",
      "with me for more!\n",
      "January 23, 2025\n",
      "LLM Workshop – Hands-on with Agents – resources\n",
      "December 21, 2024\n",
      "Welcome, SuperDataScientists!\n",
      "November 13, 2024\n",
      "Mastering AI and LLM Engineering – Resources\n",
      "October 16, 2024\n",
      "From Software Engineer to AI Data Scientist – resources\n",
      "Navigation\n",
      "Home\n",
      "Outsmart\n",
      "An arena that pits LLMs against each other in a battle of diplomacy and deviousness\n",
      "About\n",
      "Posts\n",
      "Get in touch\n",
      "ed [at] edwarddonner [dot] com\n",
      "www.edwarddonner.com\n",
      "Follow me\n",
      "LinkedIn\n",
      "Twitter\n",
      "Facebook\n",
      "Subscribe to newsletter\n",
      "Type your email…\n",
      "Subscribe\n"
     ]
    }
   ],
   "source": [
    "ed = Website(\"https://edwarddonner.com\")\n",
    "print(ed.title)\n",
    "print(ed.text)"
   ]
  },
  {
   "cell_type": "code",
   "execution_count": 16,
   "id": "f7b657d8-af30-4a1f-9d19-ee78eb651bd6",
   "metadata": {},
   "outputs": [],
   "source": [
    "from openai import OpenAI\n",
    "ollama_via_openai = OpenAI(base_url='http://localhost:11434/v1', api_key='ollama')\n",
    "\n",
    "def summarize(url):\n",
    "    website = Website(url)\n",
    "    response = ollama_via_openai.chat.completions.create(\n",
    "    model=MODEL,\n",
    "    messages=messages\n",
    ")\n",
    "\n",
    "    return response.choices[0].message.content"
   ]
  },
  {
   "cell_type": "code",
   "execution_count": 17,
   "id": "62df7ba5-08a7-421c-9bd8-7aedba6ff6fa",
   "metadata": {},
   "outputs": [
    {
     "data": {
      "text/plain": [
       "'Generative AI has numerous business applications across various industries, including:\\n\\n1. **Content Generation**: AI can generate high-quality content such as articles, social media posts, product descriptions, and even entire books. This automates content creation, freeing up resources for more strategic tasks.\\n\\n2. **SEO Optimization**: AI-powered tools can analyze and optimize website content to improve search engine rankings, suggesting keywords, phrases, and descriptions that boost SEO.\\n\\n3. **Chatbots and Messaging**: Generative AI enables the development of advanced chatbots that can understand context, converse in multiple languages, and even provide personalized customer support.\\n\\n4. **Personalization**: By analyzing user behavior and preferences, generative AI can create customized content, product recommendations, and experiences across various platforms.\\n\\n5. **Marketing Automation**: AI generates lead magnets, marketing campaigns, and ad creative to automate the sales process, increasing conversion rates and reducing manual effort.\\n\\n6. **Data Analytics**: Generative AI tools like Data Augmentation and Synthetic Data generation help address issues with biased data, by generating synthetic, relevant datasets that can serve as accurate stand-ins for a subset of real-world data.\\n\\n7. **User Experience (UX) Design**: AI-powered design tools create intuitive, user-friendly interfaces for websites, mobile apps, and wearables by optimizing layouts, colors, and overall UX flows based on human behavior patterns.\\n\\n8. **Music and Audio Processing**: Generative AI enables music composition, audio processing, and even voiceover creation to generate customized content such as podcast intros, songs, and audiobooks.\\n\\n9. **Computer Vision**: Generative AI models can process, analyze, and create from visual data such as generating 3D models for virtual object renderings from images or videos.\\n\\n10. **Sales Enablement**: By automating sales-related activities, such as personalized pitch templates, product information pages, and even speech-to-text transcription of video pitches, businesses improve their internal and customer-facing processes.\\n\\n11. **Business English Support**: Generative AI creates grammatically correct translations that help international companies to create localized content that effectively communicates for multiple languages.\\n\\nGenerative AI applications provide significant advantages over traditional methods in terms of efficiency, productivity, and scalability, making these tools essential components of businesses looking to enhance their operations and competitive advantage.'"
      ]
     },
     "execution_count": 17,
     "metadata": {},
     "output_type": "execute_result"
    }
   ],
   "source": [
    "summarize(\"https://edwarddonner.com\")"
   ]
  },
  {
   "cell_type": "code",
   "execution_count": 18,
   "id": "c64d1f5e-e6fb-462b-9d9f-4060fba305e7",
   "metadata": {},
   "outputs": [],
   "source": [
    "def display_summary(url):\n",
    "    summary = summarize(url)\n",
    "    display(Markdown(summary))"
   ]
  },
  {
   "cell_type": "code",
   "execution_count": 19,
   "id": "023df49e-933d-4be5-9a03-c2ce2d230c40",
   "metadata": {},
   "outputs": [
    {
     "data": {
      "text/markdown": [
       "Generative AI has numerous business applications across various industries, including:\n",
       "\n",
       "1. **Content Generation**:Automated content generation allows businesses to quickly produce high-quality content, such as blog posts, social media posts, product descriptions, and more, without the need for extensive research and writing.\n",
       "2. **Product Design and Development**: Generative AI can help design products, logos, and branding materials by automatically generating concepts based on user input and preferences.\n",
       "3. **Marketing and Advertising**: Generative AI can be used to create personalized marketing messages, product recommendations, and ad copy tailored to individual customers' interests and behaviors.\n",
       "4. **Social Media Management**:Automated social media posting and content creation can help businesses manage their online presence more efficiently, allowing them to focus on other aspects of their operations.\n",
       "5. **Customer Service Chatbots**: Generative AI-powered chatbots can handle customer inquiries, provide answers, and even offer personalized solutions, improving overall customer experience.\n",
       "6. **Creative Writing and Editing**: Automatic writing and editing tools can assist writers with tasks such as grammar checking, sentence completion, and even generating new ideas for content.\n",
       "7. **Financial Modeling and Forecasting**: Generative AI can help financial analysts create predictive models and forecasts by analyzing large datasets and identifying patterns and trends.\n",
       "8. **Supply Chain Management**: By analyzing historical data and trends, generative AI can help optimize supply chain operations, predict demand, and identify areas for improvement.\n",
       "9. **Product Recommendations**: Using customer behavior and purchase history data, generative AI algorithms can suggest products that individuals are likely to be interested in purchasing.\n",
       "10. **Quality Control and Inspection**: Generative AI can analyze images and patterns to detect defects, inconsistencies, or anomalies in products, helping improve quality control processes.\n",
       "\n",
       "Specific industries where generative AI has practical applications include:\n",
       "\n",
       "* **Media and Entertainment**: Movie scriptwriting, song generation, animated content creation\n",
       "* **Education**: Personalized learning plans, adaptive assessments, educational content development\n",
       "* **Healthcare**: Medical imaging analysis, disease diagnosis, patient record organization\n",
       "* **Retail**: Product modeling, product demonstrations, personalized shopping experiences\n",
       "* **Manufacturing**: Design optimization, simulation, production scheduling\n",
       "\n",
       "The benefits of generative AI for businesses include:\n",
       "\n",
       "* Increased efficiency and productivity\n",
       "* Improved accuracy and reduced errors\n",
       "* Enhanced customer experience and engagement\n",
       "* Reduced costs associated with manual tasks and data analysis\n",
       "* Increased innovation and creativity in product design and development"
      ],
      "text/plain": [
       "<IPython.core.display.Markdown object>"
      ]
     },
     "metadata": {},
     "output_type": "display_data"
    }
   ],
   "source": [
    "display_summary(\"https://edwarddonner.com\")"
   ]
  },
  {
   "cell_type": "code",
   "execution_count": 20,
   "id": "ec7f9afe-729e-4677-9513-ecb444fa304e",
   "metadata": {},
   "outputs": [
    {
     "data": {
      "text/markdown": [
       "Generative AI has numerous business applications across various industries. Here are some examples:\n",
       "\n",
       "1. **Content Creation**: Generative AI can generate high-quality content such as articles, social media posts, product descriptions, and more. This can help businesses streamline their content creation process, reduce costs, and increase productivity.\n",
       "2. **Marketing Automation**: Generative AI can be used to create personalized marketing campaigns, including product recommendations, email subject lines, and even entire marketing materials. This can help businesses personalize their marketing efforts and improve customer engagement.\n",
       "3. **Product Design**: Generative AI can be used to design new products, packaging, and branding. This can help businesses reduce the time and cost associated with traditional design processes.\n",
       "4. **Customer Service Chatbots**: Generative AI can power chatbots that can understand and respond to customer queries in a more human-like way. This can help businesses improve their customer service experience and provide 24/7 support.\n",
       "5. **Image and Video Generation**: Generative AI can generate high-quality images and videos that can be used for marketing, advertising, and other business purposes. This can help businesses reduce the cost of creating visual content.\n",
       "6. **Predictive Analytics**: Generative AI can be used to predict customer behavior, including purchasing patterns, demographic trends, and market growth. This can help businesses make informed decisions about investments, product development, and marketing strategies.\n",
       "7. **Supply Chain Optimization**: Generative AI can optimize supply chain operations by forecasting demand, managing inventory, and predicting disruptions. This can help businesses improve their logistics, reduce costs, and increase efficiency.\n",
       "8. **Product Recommendation Engine**: Generative AI can be used to create product recommendation engines that suggest products based on customer behavior, preferences, and purchase history. This can help businesses increase revenue and improve customer satisfaction.\n",
       "9. **Music and Audio Generation**: Generative AI can generate high-quality music and audio content, including sound effects, jingles, and even orchestral compositions. This can help businesses improve their marketing materials, create atmospheric soundscapes, or enhance customer experiences.\n",
       "10. **Artificial Music Composition**: Generative AI can be used to compose original music compositions for various purposes such as advertising, films, or video games.\n",
       "\n",
       "These are just a few examples of the many business applications of Generative AI. As the technology continues to evolve and improve, we can expect to see even more innovative applications across various industries."
      ],
      "text/plain": [
       "<IPython.core.display.Markdown object>"
      ]
     },
     "metadata": {},
     "output_type": "display_data"
    }
   ],
   "source": [
    "display_summary(\"https://cnn.com\")"
   ]
  },
  {
   "cell_type": "code",
   "execution_count": null,
   "id": "45d2b235-79be-49f2-ae04-fc846e6be651",
   "metadata": {},
   "outputs": [],
   "source": []
  }
 ],
 "metadata": {
  "kernelspec": {
   "display_name": "Python 3 (ipykernel)",
   "language": "python",
   "name": "python3"
  },
  "language_info": {
   "codemirror_mode": {
    "name": "ipython",
    "version": 3
   },
   "file_extension": ".py",
   "mimetype": "text/x-python",
   "name": "python",
   "nbconvert_exporter": "python",
   "pygments_lexer": "ipython3",
   "version": "3.12.7"
  }
 },
 "nbformat": 4,
 "nbformat_minor": 5
}
